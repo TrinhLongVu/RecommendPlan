{
 "cells": [
  {
   "cell_type": "code",
   "execution_count": 22,
   "metadata": {},
   "outputs": [
    {
     "data": {
      "text/html": [
       "<div>\n",
       "<style scoped>\n",
       "    .dataframe tbody tr th:only-of-type {\n",
       "        vertical-align: middle;\n",
       "    }\n",
       "\n",
       "    .dataframe tbody tr th {\n",
       "        vertical-align: top;\n",
       "    }\n",
       "\n",
       "    .dataframe thead th {\n",
       "        text-align: right;\n",
       "    }\n",
       "</style>\n",
       "<table border=\"1\" class=\"dataframe\">\n",
       "  <thead>\n",
       "    <tr style=\"text-align: right;\">\n",
       "      <th></th>\n",
       "      <th>id</th>\n",
       "      <th>nameActivity</th>\n",
       "      <th>rateActivity</th>\n",
       "      <th>numComment</th>\n",
       "      <th>priceActivity</th>\n",
       "      <th>urlImage</th>\n",
       "      <th>city</th>\n",
       "      <th>time</th>\n",
       "      <th>distance</th>\n",
       "      <th>typeActivity</th>\n",
       "    </tr>\n",
       "  </thead>\n",
       "  <tbody>\n",
       "    <tr>\n",
       "      <th>0</th>\n",
       "      <td>0</td>\n",
       "      <td>Nhà thờ Đức Bà Sài Gòn</td>\n",
       "      <td>4.4</td>\n",
       "      <td>22000.0</td>\n",
       "      <td>Miễn phí</td>\n",
       "      <td>https://lh5.googleusercontent.com/p/AF1QipPfkH...</td>\n",
       "      <td>Hồ Chí Minh</td>\n",
       "      <td>NaN</td>\n",
       "      <td>('10.7797746', '106.616617')</td>\n",
       "      <td>Nhà thờ chính tòa Công giáo</td>\n",
       "    </tr>\n",
       "    <tr>\n",
       "      <th>1</th>\n",
       "      <td>1</td>\n",
       "      <td>Dinh Độc Lập</td>\n",
       "      <td>4.4</td>\n",
       "      <td>34000.0</td>\n",
       "      <td>40000</td>\n",
       "      <td>https://lh5.googleusercontent.com/p/AF1QipMSw2...</td>\n",
       "      <td>Hồ Chí Minh</td>\n",
       "      <td>Thứ Sáu 08:00–15:30</td>\n",
       "      <td>(0, 0)</td>\n",
       "      <td>Bảo tàng</td>\n",
       "    </tr>\n",
       "    <tr>\n",
       "      <th>2</th>\n",
       "      <td>2</td>\n",
       "      <td>Khu di tích lịch sử Địa đạo Củ Chi</td>\n",
       "      <td>4.5</td>\n",
       "      <td>12000.0</td>\n",
       "      <td>NaN</td>\n",
       "      <td>https://lh5.googleusercontent.com/p/AF1QipNL_j...</td>\n",
       "      <td>Hồ Chí Minh</td>\n",
       "      <td>Thứ Sáu 07:00–17:00</td>\n",
       "      <td>('11.1415798', '106.3791944')</td>\n",
       "      <td>Điểm mốc lịch sử</td>\n",
       "    </tr>\n",
       "    <tr>\n",
       "      <th>3</th>\n",
       "      <td>3</td>\n",
       "      <td>Nhà hát Thành phố Hồ Chí Minh</td>\n",
       "      <td>4.5</td>\n",
       "      <td>13000.0</td>\n",
       "      <td>NaN</td>\n",
       "      <td>https://lh5.googleusercontent.com/p/AF1QipO1ie...</td>\n",
       "      <td>Hồ Chí Minh</td>\n",
       "      <td>NaN</td>\n",
       "      <td>('10.7766243', '106.6207635')</td>\n",
       "      <td>Nhà hát Opera</td>\n",
       "    </tr>\n",
       "  </tbody>\n",
       "</table>\n",
       "</div>"
      ],
      "text/plain": [
       "   id                           nameActivity  rateActivity  numComment  \\\n",
       "0   0                 Nhà thờ Đức Bà Sài Gòn           4.4     22000.0   \n",
       "1   1                           Dinh Độc Lập           4.4     34000.0   \n",
       "2   2  Khu di tích lịch sử Địa đạo Củ Chi           4.5     12000.0   \n",
       "3   3          Nhà hát Thành phố Hồ Chí Minh           4.5     13000.0   \n",
       "\n",
       "  priceActivity                                           urlImage  \\\n",
       "0      Miễn phí  https://lh5.googleusercontent.com/p/AF1QipPfkH...   \n",
       "1         40000  https://lh5.googleusercontent.com/p/AF1QipMSw2...   \n",
       "2           NaN  https://lh5.googleusercontent.com/p/AF1QipNL_j...   \n",
       "3           NaN  https://lh5.googleusercontent.com/p/AF1QipO1ie...   \n",
       "\n",
       "          city                 time                       distance  \\\n",
       "0  Hồ Chí Minh                  NaN   ('10.7797746', '106.616617')   \n",
       "1  Hồ Chí Minh  Thứ Sáu 08:00–15:30                         (0, 0)   \n",
       "2  Hồ Chí Minh  Thứ Sáu 07:00–17:00  ('11.1415798', '106.3791944')   \n",
       "3  Hồ Chí Minh                  NaN  ('10.7766243', '106.6207635')   \n",
       "\n",
       "                  typeActivity  \n",
       "0  Nhà thờ chính tòa Công giáo  \n",
       "1                     Bảo tàng  \n",
       "2             Điểm mốc lịch sử  \n",
       "3                Nhà hát Opera  "
      ]
     },
     "execution_count": 22,
     "metadata": {},
     "output_type": "execute_result"
    }
   ],
   "source": [
    "import pandas as pd\n",
    "df = pd.read_csv('data/activityRawData.csv')\n",
    "df.head(4)"
   ]
  },
  {
   "cell_type": "code",
   "execution_count": 23,
   "metadata": {},
   "outputs": [
    {
     "data": {
      "text/plain": [
       "0"
      ]
     },
     "execution_count": 23,
     "metadata": {},
     "output_type": "execute_result"
    }
   ],
   "source": [
    "#### Modify priceActivity: have price or set to 0\n",
    "\n",
    "df['priceActivity'].replace('Miễn phí', 0 , inplace=True)\n",
    "df['priceActivity'].fillna(0, inplace=True)\n",
    "df['priceActivity'].isnull().sum()"
   ]
  },
  {
   "cell_type": "code",
   "execution_count": 24,
   "metadata": {},
   "outputs": [
    {
     "data": {
      "text/plain": [
       "array(['07:00', '08:00', '07:30', '09:30', '08:30', '10:00', '05:00',\n",
       "       '09:00', '06:00', '16:00', '06:30', '07:15', '04:00', '03:00',\n",
       "       '04:30', '05:30', '18:00', '05:15', '17:30', '15:00', '00:00',\n",
       "       '13:00', '14:00', '02:00', '17:00', '07:45', '06:45', '08:15',\n",
       "       '18:30'], dtype=object)"
      ]
     },
     "metadata": {},
     "output_type": "display_data"
    },
    {
     "data": {
      "text/plain": [
       "array(['17:00', '15:30', '17:30', '21:30', '23:00', '18:00', '22:00',\n",
       "       '21:00', '12:00', '19:30', '19:00', '00:00', '16:30', '05:00',\n",
       "       '17:15', '18:30', '20:30', '16:00', '20:00', '06:00', '17:45',\n",
       "       '11:00', '11:30', '08:00', '18:15', '22:30', '19:15', '22:15',\n",
       "       '23:30', '21:15', '02:00', '05:30', '09:00', '01:00'], dtype=object)"
      ]
     },
     "metadata": {},
     "output_type": "display_data"
    }
   ],
   "source": [
    "#### Change Time Open - Close \n",
    "\n",
    "for i, val in enumerate(df['time']):\n",
    "    val = str(val)\n",
    "    if 'Mở cửa cả ngày' in val:\n",
    "        getOpenTime  = '07:00'\n",
    "        getCloseTime = '12:00'\n",
    "    elif 'Thứ Sáu' in val:\n",
    "        getTime = val.strip('Thứ Sáu').strip()    \n",
    "        \n",
    "        if ',' in getTime:\n",
    "            getOpenTime, getCloseTime = getTime.split(',')\n",
    "            getOpenTime, _  = getOpenTime.split('–')\n",
    "            _ ,getCloseTime = getCloseTime.split('–')\n",
    "        elif '–' in getTime:\n",
    "            getOpenTime, getCloseTime = getTime.split('–')\n",
    "        else:\n",
    "            getOpenTime   = '07:00'\n",
    "            getCloseTime  = '17:00'\n",
    "\n",
    "    else:\n",
    "        getOpenTime   = '07:00'\n",
    "        getCloseTime  = '17:00'\n",
    "   \n",
    "    df.loc[i, 'openTime'] = getOpenTime\n",
    "    df.loc[i, 'closeTime'] = getCloseTime\n",
    "\n",
    "df.drop( columns= ['time' ], inplace=True )\n",
    "display(df['openTime'].unique())\n",
    "display(df['closeTime'].unique())"
   ]
  },
  {
   "cell_type": "markdown",
   "metadata": {},
   "source": [
    "##### Standardized Type Activity"
   ]
  },
  {
   "cell_type": "code",
   "execution_count": 25,
   "metadata": {},
   "outputs": [],
   "source": [
    "''''\n",
    "Du lịch biển đảo\n",
    "Du lịch sinh thái\n",
    "Du lịch tâm linh\n",
    "Du lịch giải trí\n",
    "Địa danh lịch sử\n",
    "Vãn cảnh & Check-in\n",
    "Du lịch văn hóa & nghệ thuật\n",
    "\n",
    "'''\n",
    "type1 = [ 'Biển' , 'biển' , 'đảo' , 'Đảo' , 'Bãi' , 'bãi' ]\n",
    "type2 = ['thác' , 'Thác' , 'rừng' , 'sinh thái' , 'Sinh thái' , 'hồ' , 'Rừng' , 'núi' , 'Núi' , 'Hồ' , 'thiên nhiên' , 'Cave' ,  'Vườn' , 'Vịnh' , 'Đầm' , 'gió' , 'Gió']\n",
    "type3 = [ 'chùa' , 'Chùa' , 'Nhà thờ'  , 'Nhà thờ'  , 'Đền' , 'Đền thờ' , 'Chúa' ]\n",
    "type4 = [ 'công viên' , 'Công viên'  , 'giải trí' , 'Sở thú']\n",
    "type5 = [ 'lịch sử', 'quân đội' , 'Lịch sử' ,  'chiến tranh']\n",
    "type6 = [ 'Cầu' , 'Con đường nổi tiếng' , 'Sông' , 'Khu cắm trại' , 'Văn phòng công ty' , 'Bưu điện' , 'Thắng cảnh' ]\n",
    "type7 = [ 'Nhà hát' , 'nghệ thuật' , 'chợ' , 'Chợ' , 'văn hóa' , 'Tháp' , 'Bảo tàng' , 'Nơi thờ cúng' , 'tượng' , 'Tượng' , 'Phố'   ]\n"
   ]
  },
  {
   "cell_type": "code",
   "execution_count": 26,
   "metadata": {},
   "outputs": [
    {
     "data": {
      "text/html": [
       "<div>\n",
       "<style scoped>\n",
       "    .dataframe tbody tr th:only-of-type {\n",
       "        vertical-align: middle;\n",
       "    }\n",
       "\n",
       "    .dataframe tbody tr th {\n",
       "        vertical-align: top;\n",
       "    }\n",
       "\n",
       "    .dataframe thead th {\n",
       "        text-align: right;\n",
       "    }\n",
       "</style>\n",
       "<table border=\"1\" class=\"dataframe\">\n",
       "  <thead>\n",
       "    <tr style=\"text-align: right;\">\n",
       "      <th></th>\n",
       "      <th>id</th>\n",
       "      <th>nameActivity</th>\n",
       "      <th>rateActivity</th>\n",
       "      <th>numComment</th>\n",
       "      <th>priceActivity</th>\n",
       "      <th>urlImage</th>\n",
       "      <th>city</th>\n",
       "      <th>distance</th>\n",
       "      <th>openTime</th>\n",
       "      <th>closeTime</th>\n",
       "      <th>typeActivity</th>\n",
       "    </tr>\n",
       "  </thead>\n",
       "  <tbody>\n",
       "    <tr>\n",
       "      <th>0</th>\n",
       "      <td>0</td>\n",
       "      <td>Nhà thờ Đức Bà Sài Gòn</td>\n",
       "      <td>4.4</td>\n",
       "      <td>22000.0</td>\n",
       "      <td>0</td>\n",
       "      <td>https://lh5.googleusercontent.com/p/AF1QipPfkH...</td>\n",
       "      <td>Hồ Chí Minh</td>\n",
       "      <td>('10.7797746', '106.616617')</td>\n",
       "      <td>07:00</td>\n",
       "      <td>17:00</td>\n",
       "      <td>Du lịch tâm linh</td>\n",
       "    </tr>\n",
       "    <tr>\n",
       "      <th>1</th>\n",
       "      <td>1</td>\n",
       "      <td>Dinh Độc Lập</td>\n",
       "      <td>4.4</td>\n",
       "      <td>34000.0</td>\n",
       "      <td>40000</td>\n",
       "      <td>https://lh5.googleusercontent.com/p/AF1QipMSw2...</td>\n",
       "      <td>Hồ Chí Minh</td>\n",
       "      <td>(0, 0)</td>\n",
       "      <td>08:00</td>\n",
       "      <td>15:30</td>\n",
       "      <td>Du lịch văn hóa &amp; nghệ thuật</td>\n",
       "    </tr>\n",
       "    <tr>\n",
       "      <th>2</th>\n",
       "      <td>2</td>\n",
       "      <td>Khu di tích lịch sử Địa đạo Củ Chi</td>\n",
       "      <td>4.5</td>\n",
       "      <td>12000.0</td>\n",
       "      <td>0</td>\n",
       "      <td>https://lh5.googleusercontent.com/p/AF1QipNL_j...</td>\n",
       "      <td>Hồ Chí Minh</td>\n",
       "      <td>('11.1415798', '106.3791944')</td>\n",
       "      <td>07:00</td>\n",
       "      <td>17:00</td>\n",
       "      <td>Địa danh lịch sử</td>\n",
       "    </tr>\n",
       "    <tr>\n",
       "      <th>3</th>\n",
       "      <td>3</td>\n",
       "      <td>Nhà hát Thành phố Hồ Chí Minh</td>\n",
       "      <td>4.5</td>\n",
       "      <td>13000.0</td>\n",
       "      <td>0</td>\n",
       "      <td>https://lh5.googleusercontent.com/p/AF1QipO1ie...</td>\n",
       "      <td>Hồ Chí Minh</td>\n",
       "      <td>('10.7766243', '106.6207635')</td>\n",
       "      <td>07:00</td>\n",
       "      <td>17:00</td>\n",
       "      <td>Du lịch văn hóa &amp; nghệ thuật</td>\n",
       "    </tr>\n",
       "  </tbody>\n",
       "</table>\n",
       "</div>"
      ],
      "text/plain": [
       "   id                           nameActivity  rateActivity  numComment  \\\n",
       "0   0                 Nhà thờ Đức Bà Sài Gòn           4.4     22000.0   \n",
       "1   1                           Dinh Độc Lập           4.4     34000.0   \n",
       "2   2  Khu di tích lịch sử Địa đạo Củ Chi           4.5     12000.0   \n",
       "3   3          Nhà hát Thành phố Hồ Chí Minh           4.5     13000.0   \n",
       "\n",
       "  priceActivity                                           urlImage  \\\n",
       "0             0  https://lh5.googleusercontent.com/p/AF1QipPfkH...   \n",
       "1         40000  https://lh5.googleusercontent.com/p/AF1QipMSw2...   \n",
       "2             0  https://lh5.googleusercontent.com/p/AF1QipNL_j...   \n",
       "3             0  https://lh5.googleusercontent.com/p/AF1QipO1ie...   \n",
       "\n",
       "          city                       distance openTime closeTime  \\\n",
       "0  Hồ Chí Minh   ('10.7797746', '106.616617')    07:00     17:00   \n",
       "1  Hồ Chí Minh                         (0, 0)    08:00     15:30   \n",
       "2  Hồ Chí Minh  ('11.1415798', '106.3791944')    07:00     17:00   \n",
       "3  Hồ Chí Minh  ('10.7766243', '106.6207635')    07:00     17:00   \n",
       "\n",
       "                   typeActivity  \n",
       "0              Du lịch tâm linh  \n",
       "1  Du lịch văn hóa & nghệ thuật  \n",
       "2              Địa danh lịch sử  \n",
       "3  Du lịch văn hóa & nghệ thuật  "
      ]
     },
     "execution_count": 26,
     "metadata": {},
     "output_type": "execute_result"
    }
   ],
   "source": [
    "for i, val in enumerate(df['typeActivity']):\n",
    "    if val == 'Điểm thu hút khách du lịch':\n",
    "        df.loc[ i , 'keyword'] =  '####'\n",
    "        \n",
    "for i, val in enumerate(df['nameActivity']):\n",
    "    for type in type1:\n",
    "        if type in val:\n",
    "            df.loc[ i, 'keyword'] = 'Du lịch biển đảo'\n",
    "            break\n",
    "    for type in type2:\n",
    "        if type in val:\n",
    "            df.loc[ i, 'keyword'] = 'Du lịch sinh thái'\n",
    "            break\n",
    "    for type in type3:\n",
    "        if type in val:\n",
    "            df.loc[ i , 'keyword'] =  'Du lịch tâm linh'\n",
    "            break\n",
    "    for type in type4:\n",
    "        if type in val:\n",
    "            df.loc[ i , 'keyword'] =  'Du lịch giải trí'\n",
    "            break\n",
    "\n",
    "    for type in type5:\n",
    "        if type in val:\n",
    "            df.loc[ i , 'keyword'] =  'Địa danh lịch sử'\n",
    "            break\n",
    "    \n",
    "    for type in type6:\n",
    "        if type in val:\n",
    "            df.loc[ i , 'keyword'] =  'Vãn cảnh & Check-in'\n",
    "            break\n",
    "    for type in type7:\n",
    "        if type in val:\n",
    "            df.loc[ i , 'keyword'] =  'Du lịch văn hóa & nghệ thuật'\n",
    "            break\n",
    "\n",
    "            \n",
    "for i, val in enumerate(df['typeActivity']):\n",
    "    for type in type1:\n",
    "        if type in val:\n",
    "            df.loc[ i, 'keyword'] = 'Du lịch biển đảo'\n",
    "            break\n",
    "    for type in type2:\n",
    "        if type in val:\n",
    "            df.loc[ i, 'keyword'] = 'Du lịch sinh thái'\n",
    "            break\n",
    "    for type in type3:\n",
    "        if type in val:\n",
    "            df.loc[ i , 'keyword'] =  'Du lịch tâm linh'\n",
    "            break\n",
    "    for type in type4:\n",
    "        if type in val:\n",
    "            df.loc[ i , 'keyword'] =  'Du lịch giải trí'\n",
    "            break\n",
    "    for type in type5:\n",
    "        if type in val:\n",
    "            df.loc[ i , 'keyword'] =  'Địa danh lịch sử'\n",
    "            break\n",
    "    for type in type6:\n",
    "        if type in val:\n",
    "            df.loc[ i , 'keyword'] =  'Vãn cảnh & Check-in'\n",
    "            break\n",
    "    for type in type7:\n",
    "        if type in val:\n",
    "            df.loc[ i , 'keyword'] =  'Du lịch văn hóa & nghệ thuật'\n",
    "            break\n",
    "\n",
    "              \n",
    "df['keyword'].replace( '####' , 'Du lịch sinh thái' , inplace=True)\n",
    "df.dropna(subset=[\"keyword\"], inplace=True)\n",
    "df.drop( columns= ['typeActivity' ], inplace=True )\n",
    "df.rename(columns = {'keyword':'typeActivity'}, inplace = True)\n",
    "df.head(4)"
   ]
  },
  {
   "cell_type": "code",
   "execution_count": 27,
   "metadata": {},
   "outputs": [
    {
     "data": {
      "text/plain": [
       "Index(['id', 'nameActivity', 'rateActivity', 'numComment', 'priceActivity',\n",
       "       'urlImage', 'city', 'distance', 'openTime', 'closeTime',\n",
       "       'typeActivity'],\n",
       "      dtype='object')"
      ]
     },
     "execution_count": 27,
     "metadata": {},
     "output_type": "execute_result"
    }
   ],
   "source": [
    "df.columns"
   ]
  },
  {
   "cell_type": "code",
   "execution_count": 28,
   "metadata": {},
   "outputs": [],
   "source": [
    "df.rename(columns = {'id':'idActivity'}, inplace = True)\n"
   ]
  },
  {
   "cell_type": "code",
   "execution_count": 29,
   "metadata": {},
   "outputs": [
    {
     "data": {
      "text/plain": [
       "1404"
      ]
     },
     "execution_count": 29,
     "metadata": {},
     "output_type": "execute_result"
    }
   ],
   "source": [
    "len(df)"
   ]
  },
  {
   "cell_type": "code",
   "execution_count": 30,
   "metadata": {},
   "outputs": [],
   "source": [
    "df.to_csv('data/activity.csv', index=False)"
   ]
  }
 ],
 "metadata": {
  "kernelspec": {
   "display_name": "Python 3",
   "language": "python",
   "name": "python3"
  },
  "language_info": {
   "codemirror_mode": {
    "name": "ipython",
    "version": 3
   },
   "file_extension": ".py",
   "mimetype": "text/x-python",
   "name": "python",
   "nbconvert_exporter": "python",
   "pygments_lexer": "ipython3",
   "version": "3.10.6"
  }
 },
 "nbformat": 4,
 "nbformat_minor": 2
}
